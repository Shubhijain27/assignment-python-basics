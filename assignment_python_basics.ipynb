{
  "nbformat": 4,
  "nbformat_minor": 0,
  "metadata": {
    "colab": {
      "provenance": [],
      "authorship_tag": "ABX9TyPvDZF/nZaWoOjXdA464Yg7",
      "include_colab_link": true
    },
    "kernelspec": {
      "name": "python3",
      "display_name": "Python 3"
    },
    "language_info": {
      "name": "python"
    }
  },
  "cells": [
    {
      "cell_type": "markdown",
      "metadata": {
        "id": "view-in-github",
        "colab_type": "text"
      },
      "source": [
        "<a href=\"https://colab.research.google.com/github/Shubhijain27/assignment-python-basics/blob/main/assignment_python_basics.ipynb\" target=\"_parent\"><img src=\"https://colab.research.google.com/assets/colab-badge.svg\" alt=\"Open In Colab\"/></a>"
      ]
    },
    {
      "cell_type": "code",
      "execution_count": null,
      "metadata": {
        "id": "UiVkBEBOZO-Y"
      },
      "outputs": [],
      "source": []
    },
    {
      "cell_type": "markdown",
      "source": [
        "# EXPLAIN THE KEY FEATURES OF PYTHON THAT MAKE IT A POPULAR CHOICE FOR PROGRAMMING\n",
        " ANSWER :\n",
        "\n",
        "1. **Free and Open Source**\n",
        "\n",
        "Python language is freely available at the official website and you can download it from the given download link below click on the Download Python keyword. Download Python Since it is open-source, this means that source code is also available to the public. So you can download it, use it as well as share it.\n",
        "\n",
        "2. **Easy to code**\n",
        "\n",
        "Python is a high-level programming language. Python is very easy to learn the language as compared to other languages like C, C#, Javascript, Java, etc. It is very easy to code in the Python language and anybody can learn Python basics in a few hours or days. It is also a developer-friendly language.\n",
        "\n",
        "3. **Easy to Read**\n",
        "\n",
        "As you will see, learning Python is quite simple. As was already established, Python’s syntax is really straightforward. The code block is defined by the indentations rather than by semicolons or brackets.\n",
        "\n",
        "4. **Object-Oriented Language**\n",
        "\n",
        "One of the key features of Python is Object-Oriented programming. Python supports object-oriented language and concepts of classes, object encapsulation, etc.\n",
        "\n",
        "5. **GUI Programming Support**\n",
        "\n",
        "Graphical User interfaces can be made using a module such as PyQt5, PyQt4, wxPython, or Tk in Python. PyQt5 is the most popular option for creating graphical apps with Python.\n",
        "\n",
        "6. **High-Level Language**\n",
        "\n",
        "Python is a high-level language. When we write programs in Python, we do not need to remember the system architecture, nor do we need to manage the memory.\n",
        "\n",
        "7. **Large Community Support**\n",
        "\n",
        "Python has gained popularity over the years. Our questions are constantly answered by the enormous StackOverflow community. These websites have already provided answers to many questions about Python, so Python users can consult them as needed.\n",
        "\n",
        "8. **Easy to Debug**\n",
        "\n",
        "Excellent information for mistake tracing. You will be able to quickly identify and correct the majority of your program’s issues once you understand how to interpret Python’s error traces. Simply by glancing at the code, you can determine what it is designed to perform.\n",
        "\n",
        "9. **Python is a Portable language**\n",
        "\n",
        "Python language is also a portable language. For example, if we have Python code for Windows and if we want to run this code on other platforms such as Linux, Unix, and Mac then we do not need to change it, we can run this code on any platform.\n",
        "\n",
        "10. **Python is an Integrated language**\n",
        "\n",
        "Python is also an Integrated language because we can easily integrate Python with other languages like C, C++, etc.\n",
        "\n",
        "11. Interpreted Language\n",
        "\n",
        "Python is an Interpreted Language because Python code is executed line by line at a time. like other languages C, C++, Java, etc. there is no need to compile Python code this makes it easier to debug our code. The source code of Python is converted into an immediate form called bytecode.\n",
        "\n",
        "12. **Large Standard Library**\n",
        "\n",
        "Python has a large standard library that provides a rich set of modules and functions so you do not have to write your own code for every single thing. There are many libraries present in Python such as regular expressions, unit-testing, web browsers, etc.\n",
        "\n",
        "13. **Dynamically Typed Language**\n",
        "\n",
        "Python is a dynamically-typed language. That means the type (for example- int, double, long, etc.) for a variable is decided at run time not in advance because of this feature we don’t need to specify the type of variable.\n",
        "\n",
        "14. **Frontend and backend development**\n",
        "\n",
        "With a new project py script, you can run and write Python codes in HTML with the help of some simple tags <py-script>, <py-env>, etc. This will help you do frontend development work in Python like javascript. Backend is the strong forte of Python it’s extensively used for this work cause of its frameworks like Django and Flask.\n",
        "\n",
        "15. **Allocating Memory Dynamically**\n",
        "\n",
        "In Python, the variable data type does not need to be specified. The memory is automatically allocated to a variable at runtime when it is given a value. Developers do not need to write int y = 18 if the integer value 15 is set to y. You may just type y=18.\n",
        "\n",
        "\n",
        "\n"
      ],
      "metadata": {
        "id": "p2GQnT6sZkDB"
      }
    },
    {
      "cell_type": "markdown",
      "source": [
        "\n",
        "# Describe the role of predefined keywords in Python and provide examples of how they are used in a programming .\n",
        "\n",
        "ANSWER - *Keywords * :   \n",
        "\n",
        "#and\t-  This is a logical operator which returns true if both the operands are true else returns false.\n",
        "\n",
        "#or - This is also a logical operator which returns true if anyone operand is true else returns false.\n",
        "\n",
        "# not -\tThis is again a logical operator it returns True if the operand is false else returns false.\n",
        "\n",
        "#if -\tThis is used to make a conditional statement.\n",
        "\n",
        "#elif -\tElif is a condition statement used with an if statement. The elif statement is executed if the previous conditions were not true.\n",
        "\n",
        "#else\t-Else is used with if and elif conditional statements. The else block is executed if the given condition is not true.\n",
        "\n",
        "#for\t- This is used to create a loop.\n",
        "\n",
        "# while\t- This keyword is used to create a while loop.\n",
        "\n",
        "# break\t- This is used to terminate the loop.\n",
        "\n",
        "#as\t- This is used to create an alternative.\n",
        "\n",
        "#def-\tIt helps us to define functions.\n",
        "\n",
        "#lambda\t- It is used to define the anonymous function.\n",
        "\n",
        "#pass\t-This is a null statement which means it will do nothing.\n",
        "\n",
        "#return -\tIt will return a value and exit the function.\n",
        "\n",
        "#True\t-This is a boolean value.\n",
        "\n",
        "#False-\tThis is also a boolean value.\n",
        "\n",
        "#try\t- It makes a try-except statement.\n",
        "\n",
        "#with -\tThe with keyword is used to simplify exception handling.\n",
        "\n",
        "#assert -\tThis function is used for debugging purposes. Usually used to check the correctness of code\n",
        "\n",
        "#class\t- It helps us to define a class.\n",
        "\n",
        "#continue\t- It continues to the next iteration of a loop\n",
        "\n",
        "#del\t-It deletes a reference to an object.\n",
        "\n",
        "#except\t- Used with exceptions, what to do when an exception occurs\n",
        "\n",
        "#finally\t-Finally is used with exceptions, a block of code that will be executed no matter if there is an exception or not.\n",
        "\n",
        "#from -\tIt is used to import specific parts of any module.\n",
        "\n",
        "#global-\tThis declares a global variable.\n",
        "\n",
        "#import-\tThis is used to import a module.\n",
        "\n",
        "#in\t-It’s used to check whether a value is present in a list, range, tuple, etc.\n",
        "\n",
        "#is\t-This is used to check if the two variables are equal or not.\n",
        "\n",
        "#none\t-This is a special constant used to denote a null value or avoid. It’s\n",
        "#important to remember, 0, any empty container(e.g empty list) do not compute to None\n",
        "\n",
        "#nonlocal -\tIt’s declared a non-local variable.\n",
        "\n",
        "#raise\t-This raises an exception.\n",
        "\n",
        "#yield\t-It ends a function and returns a generator.\n",
        "\n",
        "#async-\tIt is used to create asynchronous coroutine.\n",
        "\n",
        "#await-\tIt releases the flow of control back to the event loop.\n"
      ],
      "metadata": {
        "id": "entIyw7xZaNv"
      }
    },
    {
      "cell_type": "markdown",
      "source": [
        "\n",
        "#**EXAMPLES**"
      ],
      "metadata": {
        "id": "KzcrKkg8ipKr"
      }
    },
    {
      "cell_type": "code",
      "source": [
        "import keyword\n",
        "print(keyword.kwlist)"
      ],
      "metadata": {
        "colab": {
          "base_uri": "https://localhost:8080/"
        },
        "id": "0zH2_umjjAXt",
        "outputId": "bb140812-fa47-4fe3-b251-0917534cd7bd"
      },
      "execution_count": null,
      "outputs": [
        {
          "output_type": "stream",
          "name": "stdout",
          "text": [
            "['False', 'None', 'True', 'and', 'as', 'assert', 'async', 'await', 'break', 'class', 'continue', 'def', 'del', 'elif', 'else', 'except', 'finally', 'for', 'from', 'global', 'if', 'import', 'in', 'is', 'lambda', 'nonlocal', 'not', 'or', 'pass', 'raise', 'return', 'try', 'while', 'with', 'yield']\n"
          ]
        }
      ]
    },
    {
      "cell_type": "code",
      "source": [
        "# True , False , or , and\n",
        "True and False"
      ],
      "metadata": {
        "colab": {
          "base_uri": "https://localhost:8080/"
        },
        "id": "VRYcppD0jg3G",
        "outputId": "c35683b8-0213-4489-89f7-b71326e41300"
      },
      "execution_count": null,
      "outputs": [
        {
          "output_type": "execute_result",
          "data": {
            "text/plain": [
              "False"
            ]
          },
          "metadata": {},
          "execution_count": 120
        }
      ]
    },
    {
      "cell_type": "code",
      "source": [
        "True or False"
      ],
      "metadata": {
        "colab": {
          "base_uri": "https://localhost:8080/"
        },
        "id": "68O5L_N3kmEi",
        "outputId": "9905dbc9-0f07-4f69-ffe5-edf82683c491"
      },
      "execution_count": null,
      "outputs": [
        {
          "output_type": "execute_result",
          "data": {
            "text/plain": [
              "True"
            ]
          },
          "metadata": {},
          "execution_count": 121
        }
      ]
    },
    {
      "cell_type": "code",
      "source": [
        "True and True"
      ],
      "metadata": {
        "colab": {
          "base_uri": "https://localhost:8080/"
        },
        "id": "8Q-yf1tvk54F",
        "outputId": "fb41a175-c559-468e-9c71-2af3a128d688"
      },
      "execution_count": null,
      "outputs": [
        {
          "output_type": "execute_result",
          "data": {
            "text/plain": [
              "True"
            ]
          },
          "metadata": {},
          "execution_count": 122
        }
      ]
    },
    {
      "cell_type": "code",
      "source": [
        "False or False"
      ],
      "metadata": {
        "colab": {
          "base_uri": "https://localhost:8080/"
        },
        "id": "EevoWMQClvqx",
        "outputId": "18258589-f5bf-4ed6-88c7-662cafe2192d"
      },
      "execution_count": null,
      "outputs": [
        {
          "output_type": "execute_result",
          "data": {
            "text/plain": [
              "False"
            ]
          },
          "metadata": {},
          "execution_count": 123
        }
      ]
    },
    {
      "cell_type": "code",
      "source": [
        "True - False"
      ],
      "metadata": {
        "colab": {
          "base_uri": "https://localhost:8080/"
        },
        "id": "guK9NdszlyYK",
        "outputId": "4f54d5e9-bc67-4cea-c1e5-a33642915873"
      },
      "execution_count": null,
      "outputs": [
        {
          "output_type": "execute_result",
          "data": {
            "text/plain": [
              "1"
            ]
          },
          "metadata": {},
          "execution_count": 124
        }
      ]
    },
    {
      "cell_type": "code",
      "source": [
        "a = (5 > 3 or 5 > 10 )"
      ],
      "metadata": {
        "id": "7K3k4TaSl7Dz"
      },
      "execution_count": null,
      "outputs": []
    },
    {
      "cell_type": "code",
      "source": [
        "print (a)"
      ],
      "metadata": {
        "colab": {
          "base_uri": "https://localhost:8080/"
        },
        "id": "1t49FGX1l_aw",
        "outputId": "0a91b739-8e3b-4701-8003-3691d47dd963"
      },
      "execution_count": null,
      "outputs": [
        {
          "output_type": "stream",
          "name": "stdout",
          "text": [
            "True\n"
          ]
        }
      ]
    },
    {
      "cell_type": "code",
      "source": [
        "b = (5 > 3 and 5 > 10)\n",
        "print (b)"
      ],
      "metadata": {
        "colab": {
          "base_uri": "https://localhost:8080/"
        },
        "id": "QgPuI-xkn9ME",
        "outputId": "b1c2dab5-c88b-4112-8c29-af864856b2ea"
      },
      "execution_count": null,
      "outputs": [
        {
          "output_type": "stream",
          "name": "stdout",
          "text": [
            "False\n"
          ]
        }
      ]
    },
    {
      "cell_type": "code",
      "source": [
        "c = (5 < 2 | 2 > 1) # we can write in this way also\n",
        "c"
      ],
      "metadata": {
        "colab": {
          "base_uri": "https://localhost:8080/"
        },
        "id": "ngg04PdtoGvk",
        "outputId": "b77c7d68-5cc4-4f5e-d034-ca91e167c140"
      },
      "execution_count": null,
      "outputs": [
        {
          "output_type": "execute_result",
          "data": {
            "text/plain": [
              "False"
            ]
          },
          "metadata": {},
          "execution_count": 128
        }
      ]
    },
    {
      "cell_type": "code",
      "source": [
        "c = (5 > 2 & 2  > 1)\n",
        "c"
      ],
      "metadata": {
        "colab": {
          "base_uri": "https://localhost:8080/"
        },
        "id": "pfbkN8Ntogak",
        "outputId": "d8a79dfd-c4a6-4fa0-a875-30e7ae39ef91"
      },
      "execution_count": null,
      "outputs": [
        {
          "output_type": "execute_result",
          "data": {
            "text/plain": [
              "True"
            ]
          },
          "metadata": {},
          "execution_count": 129
        }
      ]
    },
    {
      "cell_type": "code",
      "source": [
        "#while\n",
        "x = 0\n",
        "while x < 9 :\n",
        "  print (x , \"x is less than 9 \")\n",
        "  x = x +1"
      ],
      "metadata": {
        "colab": {
          "base_uri": "https://localhost:8080/"
        },
        "id": "L7ky87Oio-1c",
        "outputId": "482e5e98-2601-4c38-99dc-213da43f35b4"
      },
      "execution_count": null,
      "outputs": [
        {
          "output_type": "stream",
          "name": "stdout",
          "text": [
            "0 x is less than 9 \n",
            "1 x is less than 9 \n",
            "2 x is less than 9 \n",
            "3 x is less than 9 \n",
            "4 x is less than 9 \n",
            "5 x is less than 9 \n",
            "6 x is less than 9 \n",
            "7 x is less than 9 \n",
            "8 x is less than 9 \n"
          ]
        }
      ]
    },
    {
      "cell_type": "code",
      "source": [
        "#for\n",
        "for x in range(0, 10):\n",
        "  print(x)"
      ],
      "metadata": {
        "colab": {
          "base_uri": "https://localhost:8080/"
        },
        "id": "dTCzeTlapyhM",
        "outputId": "44b7bde1-3891-4a2e-aa50-01e9d9b7df3b"
      },
      "execution_count": null,
      "outputs": [
        {
          "output_type": "stream",
          "name": "stdout",
          "text": [
            "0\n",
            "1\n",
            "2\n",
            "3\n",
            "4\n",
            "5\n",
            "6\n",
            "7\n",
            "8\n",
            "9\n"
          ]
        }
      ]
    },
    {
      "cell_type": "code",
      "source": [
        "for i in range (4):\n",
        "  for j in range(4):\n",
        "      print (  \"*\", end = \" \")\n",
        "\n",
        "  print()"
      ],
      "metadata": {
        "colab": {
          "base_uri": "https://localhost:8080/"
        },
        "id": "RfbwqZlkqISA",
        "outputId": "636fad20-6bbf-41eb-ddeb-ff4904279376"
      },
      "execution_count": null,
      "outputs": [
        {
          "output_type": "stream",
          "name": "stdout",
          "text": [
            "* * * * \n",
            "* * * * \n",
            "* * * * \n",
            "* * * * \n"
          ]
        }
      ]
    },
    {
      "cell_type": "code",
      "source": [
        "#else , elif , if"
      ],
      "metadata": {
        "id": "DciO_F5aqaNa"
      },
      "execution_count": null,
      "outputs": []
    },
    {
      "cell_type": "code",
      "source": [
        "a = 10\n",
        "if a <= 10 :\n",
        "  print (\"a\")\n",
        "\n"
      ],
      "metadata": {
        "colab": {
          "base_uri": "https://localhost:8080/"
        },
        "id": "gnyoRmTqrlUT",
        "outputId": "1384091c-0483-49a1-c555-9cf351841054"
      },
      "execution_count": null,
      "outputs": [
        {
          "output_type": "stream",
          "name": "stdout",
          "text": [
            "a\n"
          ]
        }
      ]
    },
    {
      "cell_type": "code",
      "source": [
        "a = 2\n",
        "if a >= 5 :\n",
        "  print (\"yes\")\n",
        "else :\n",
        "  print(\"no\")"
      ],
      "metadata": {
        "colab": {
          "base_uri": "https://localhost:8080/"
        },
        "id": "M3OYwAQ7sDFN",
        "outputId": "2731e48a-193c-4046-99fe-ee0887baa868"
      },
      "execution_count": null,
      "outputs": [
        {
          "output_type": "stream",
          "name": "stdout",
          "text": [
            "no\n"
          ]
        }
      ]
    },
    {
      "cell_type": "code",
      "source": [
        "MARKS = 70\n",
        "if MARKS >= 90 :\n",
        "  print (\"grade A \")\n",
        "elif 80 <= MARKS < 90 :\n",
        "  print(\"grade B\")\n",
        "elif 65 <= MARKS < 80 :\n",
        "  print (\"grade C\")\n",
        "else :\n",
        "  print (\"not passed\")"
      ],
      "metadata": {
        "colab": {
          "base_uri": "https://localhost:8080/"
        },
        "id": "O1DbWIzusSbj",
        "outputId": "e09a6b65-ceef-468b-d10b-067fd22f4b5d"
      },
      "execution_count": null,
      "outputs": [
        {
          "output_type": "stream",
          "name": "stdout",
          "text": [
            "grade C\n"
          ]
        }
      ]
    },
    {
      "cell_type": "code",
      "source": [
        "#None\n",
        "a = None\n",
        "print (a)\n",
        "type(a)"
      ],
      "metadata": {
        "colab": {
          "base_uri": "https://localhost:8080/"
        },
        "id": "9kMUTsyptNG6",
        "outputId": "a56e6ee0-9274-4aae-a07c-24255659f666"
      },
      "execution_count": null,
      "outputs": [
        {
          "output_type": "stream",
          "name": "stdout",
          "text": [
            "None\n"
          ]
        },
        {
          "output_type": "execute_result",
          "data": {
            "text/plain": [
              "NoneType"
            ]
          },
          "metadata": {},
          "execution_count": 137
        }
      ]
    },
    {
      "cell_type": "code",
      "source": [
        "#not\n",
        "x = False\n",
        "print (not False)"
      ],
      "metadata": {
        "colab": {
          "base_uri": "https://localhost:8080/"
        },
        "id": "zNSMJbTjth0E",
        "outputId": "4bb477ea-3b01-4b1a-f6a8-25b98eaafe23"
      },
      "execution_count": null,
      "outputs": [
        {
          "output_type": "stream",
          "name": "stdout",
          "text": [
            "True\n"
          ]
        }
      ]
    },
    {
      "cell_type": "code",
      "source": [
        "#break , continue\n",
        "for i in range (0, 10):\n",
        "  if i > 3 :\n",
        "    break\n",
        "  print(i)"
      ],
      "metadata": {
        "colab": {
          "base_uri": "https://localhost:8080/"
        },
        "id": "yIZcT0Gzt6aM",
        "outputId": "0cb01bc5-edcd-47ce-f43d-3a8b7bc852c2"
      },
      "execution_count": null,
      "outputs": [
        {
          "output_type": "stream",
          "name": "stdout",
          "text": [
            "0\n",
            "1\n",
            "2\n",
            "3\n"
          ]
        }
      ]
    },
    {
      "cell_type": "code",
      "source": [
        "for i in range (0, 10):\n",
        "  if i == 5 :\n",
        "    continue\n",
        "  print(i)"
      ],
      "metadata": {
        "colab": {
          "base_uri": "https://localhost:8080/"
        },
        "id": "sTuHSGafuOcK",
        "outputId": "1e8b3ab5-cfde-4e15-b818-a77da5e54c33"
      },
      "execution_count": null,
      "outputs": [
        {
          "output_type": "stream",
          "name": "stdout",
          "text": [
            "0\n",
            "1\n",
            "2\n",
            "3\n",
            "4\n",
            "6\n",
            "7\n",
            "8\n",
            "9\n"
          ]
        }
      ]
    },
    {
      "cell_type": "code",
      "source": [
        "#as , assert\n"
      ],
      "metadata": {
        "id": "U6rav8WIuVDe"
      },
      "execution_count": null,
      "outputs": []
    },
    {
      "cell_type": "code",
      "source": [
        "import calendar as c\n",
        "\n",
        "print(c.month_name[1])\n"
      ],
      "metadata": {
        "colab": {
          "base_uri": "https://localhost:8080/"
        },
        "id": "9OK53Og7BIyv",
        "outputId": "2a23fe0c-f844-4649-c6e1-9ca1a5ad37e0"
      },
      "execution_count": null,
      "outputs": [
        {
          "output_type": "stream",
          "name": "stdout",
          "text": [
            "January\n"
          ]
        }
      ]
    },
    {
      "cell_type": "code",
      "source": [
        "x = \"hello\"\n",
        "\n",
        "#if condition returns True, then nothing happens:\n",
        "assert x == \"hello\"\n",
        "\n",
        "#if condition returns False, AssertionError is raised:\n",
        "\n",
        "assert x == \"goodbye\"\n",
        "\n",
        "\n",
        "\n"
      ],
      "metadata": {
        "colab": {
          "base_uri": "https://localhost:8080/",
          "height": 211
        },
        "id": "ZW-Av8a3BS0A",
        "outputId": "1ce14704-8046-4990-f58d-6c08586383f2"
      },
      "execution_count": null,
      "outputs": [
        {
          "output_type": "error",
          "ename": "AssertionError",
          "evalue": "",
          "traceback": [
            "\u001b[0;31m---------------------------------------------------------------------------\u001b[0m",
            "\u001b[0;31mAssertionError\u001b[0m                            Traceback (most recent call last)",
            "\u001b[0;32m<ipython-input-143-13d43230be82>\u001b[0m in \u001b[0;36m<cell line: 8>\u001b[0;34m()\u001b[0m\n\u001b[1;32m      6\u001b[0m \u001b[0;31m#if condition returns False, AssertionError is raised:\u001b[0m\u001b[0;34m\u001b[0m\u001b[0;34m\u001b[0m\u001b[0m\n\u001b[1;32m      7\u001b[0m \u001b[0;34m\u001b[0m\u001b[0m\n\u001b[0;32m----> 8\u001b[0;31m \u001b[0;32massert\u001b[0m \u001b[0mx\u001b[0m \u001b[0;34m==\u001b[0m \u001b[0;34m\"goodbye\"\u001b[0m\u001b[0;34m\u001b[0m\u001b[0;34m\u001b[0m\u001b[0m\n\u001b[0m\u001b[1;32m      9\u001b[0m \u001b[0;34m\u001b[0m\u001b[0m\n\u001b[1;32m     10\u001b[0m \u001b[0;34m\u001b[0m\u001b[0m\n",
            "\u001b[0;31mAssertionError\u001b[0m: "
          ]
        }
      ]
    },
    {
      "cell_type": "code",
      "source": [
        "x = \"hello\"\n",
        "\n",
        "#if condition returns True, then nothing happens:\n",
        "assert x == \"hello\"\n"
      ],
      "metadata": {
        "id": "yfFaW_GEBvx4"
      },
      "execution_count": null,
      "outputs": []
    },
    {
      "cell_type": "code",
      "source": [
        "class Person:\n",
        "  name = \"John\"\n",
        "  age = 36\n",
        "print(Person.name)\n",
        "\n",
        "p1 = Person() #Create an object named p1\n",
        "\n",
        "print(p1.name)"
      ],
      "metadata": {
        "colab": {
          "base_uri": "https://localhost:8080/"
        },
        "id": "g6RFPP2aCXRC",
        "outputId": "a507ff8b-7795-4db1-a312-b552a184a3f1"
      },
      "execution_count": null,
      "outputs": [
        {
          "output_type": "stream",
          "name": "stdout",
          "text": [
            "John\n",
            "John\n"
          ]
        }
      ]
    },
    {
      "cell_type": "code",
      "source": [
        "def my_function():\n",
        "  print(\"Hello from a function\") # def keyword is used to create, (or define) a function.\n",
        "\n",
        "\n",
        "\n",
        "my_function()\n"
      ],
      "metadata": {
        "colab": {
          "base_uri": "https://localhost:8080/"
        },
        "id": "iIU2hDPECXNh",
        "outputId": "3fbe4a95-4914-4e27-afa1-dbafbf24dc75"
      },
      "execution_count": null,
      "outputs": [
        {
          "output_type": "stream",
          "name": "stdout",
          "text": [
            "Hello from a function\n"
          ]
        }
      ]
    },
    {
      "cell_type": "code",
      "source": [
        "class MyClass:\n",
        "  name = \"John\"\n",
        "print(MyClass.name)\n",
        "del MyClass\n",
        "\n",
        "print (MyClass)"
      ],
      "metadata": {
        "colab": {
          "base_uri": "https://localhost:8080/",
          "height": 193
        },
        "id": "Fv_MO8NBCXLI",
        "outputId": "4b1af951-8cad-4b4e-f45d-f1461c5f9f88"
      },
      "execution_count": null,
      "outputs": [
        {
          "output_type": "stream",
          "name": "stdout",
          "text": [
            "John\n"
          ]
        },
        {
          "output_type": "error",
          "ename": "NameError",
          "evalue": "name 'MyClass' is not defined",
          "traceback": [
            "\u001b[0;31m---------------------------------------------------------------------------\u001b[0m",
            "\u001b[0;31mNameError\u001b[0m                                 Traceback (most recent call last)",
            "\u001b[0;32m<ipython-input-150-4b5ca3160863>\u001b[0m in \u001b[0;36m<cell line: 6>\u001b[0;34m()\u001b[0m\n\u001b[1;32m      4\u001b[0m \u001b[0;32mdel\u001b[0m \u001b[0mMyClass\u001b[0m\u001b[0;34m\u001b[0m\u001b[0;34m\u001b[0m\u001b[0m\n\u001b[1;32m      5\u001b[0m \u001b[0;34m\u001b[0m\u001b[0m\n\u001b[0;32m----> 6\u001b[0;31m \u001b[0mprint\u001b[0m \u001b[0;34m(\u001b[0m\u001b[0mMyClass\u001b[0m\u001b[0;34m)\u001b[0m\u001b[0;34m\u001b[0m\u001b[0;34m\u001b[0m\u001b[0m\n\u001b[0m",
            "\u001b[0;31mNameError\u001b[0m: name 'MyClass' is not defined"
          ]
        }
      ]
    },
    {
      "cell_type": "code",
      "source": [
        "x = \"hello goodmorning\"\n",
        "del x[0:4]  #str obj does not support item deletion\n",
        "print(x)\n"
      ],
      "metadata": {
        "colab": {
          "base_uri": "https://localhost:8080/",
          "height": 176
        },
        "id": "oT5re4ZTCXJI",
        "outputId": "85ae6194-9ad1-4d8f-ee7d-ea15c65d5514"
      },
      "execution_count": null,
      "outputs": [
        {
          "output_type": "error",
          "ename": "TypeError",
          "evalue": "'str' object does not support item deletion",
          "traceback": [
            "\u001b[0;31m---------------------------------------------------------------------------\u001b[0m",
            "\u001b[0;31mTypeError\u001b[0m                                 Traceback (most recent call last)",
            "\u001b[0;32m<ipython-input-151-63873c1ac097>\u001b[0m in \u001b[0;36m<cell line: 2>\u001b[0;34m()\u001b[0m\n\u001b[1;32m      1\u001b[0m \u001b[0mx\u001b[0m \u001b[0;34m=\u001b[0m \u001b[0;34m\"hello goodmorning\"\u001b[0m\u001b[0;34m\u001b[0m\u001b[0;34m\u001b[0m\u001b[0m\n\u001b[0;32m----> 2\u001b[0;31m \u001b[0;32mdel\u001b[0m \u001b[0mx\u001b[0m\u001b[0;34m[\u001b[0m\u001b[0;36m0\u001b[0m\u001b[0;34m:\u001b[0m\u001b[0;36m4\u001b[0m\u001b[0;34m]\u001b[0m  \u001b[0;31m#str obj does not support item deletion\u001b[0m\u001b[0;34m\u001b[0m\u001b[0;34m\u001b[0m\u001b[0m\n\u001b[0m\u001b[1;32m      3\u001b[0m \u001b[0mprint\u001b[0m\u001b[0;34m(\u001b[0m\u001b[0mx\u001b[0m\u001b[0;34m)\u001b[0m\u001b[0;34m\u001b[0m\u001b[0;34m\u001b[0m\u001b[0m\n",
            "\u001b[0;31mTypeError\u001b[0m: 'str' object does not support item deletion"
          ]
        }
      ]
    },
    {
      "cell_type": "code",
      "source": [
        "x = [\"apple\", \"banana\", \"cherry\"]\n",
        "\n",
        "del x[0]\n",
        "\n",
        "print(x)\n"
      ],
      "metadata": {
        "id": "IBnm8ZxXCXGk"
      },
      "execution_count": null,
      "outputs": []
    },
    {
      "cell_type": "code",
      "source": [
        "type(x)"
      ],
      "metadata": {
        "colab": {
          "base_uri": "https://localhost:8080/"
        },
        "id": "7Yoc0LV9CXBP",
        "outputId": "2dea42c5-6a26-470d-8b46-9bce7eef26fb"
      },
      "execution_count": null,
      "outputs": [
        {
          "output_type": "execute_result",
          "data": {
            "text/plain": [
              "str"
            ]
          },
          "metadata": {},
          "execution_count": 152
        }
      ]
    },
    {
      "cell_type": "code",
      "source": [
        "x = \"hello\"\n",
        "\n",
        "try:\n",
        "  x > 3\n",
        "except NameError:\n",
        "  print(\"You have a variable that is not defined.\")\n",
        "except TypeError:\n",
        "  print(\"You are comparing values of different type\")"
      ],
      "metadata": {
        "colab": {
          "base_uri": "https://localhost:8080/"
        },
        "id": "FDYKlW11CW0v",
        "outputId": "e956e743-4635-402f-a143-8f26b1220d73"
      },
      "execution_count": null,
      "outputs": [
        {
          "output_type": "stream",
          "name": "stdout",
          "text": [
            "You are comparing values of different type\n"
          ]
        }
      ]
    },
    {
      "cell_type": "code",
      "source": [
        "try:\n",
        "  x = 1/0\n",
        "except NameError:\n",
        "  print(\"You have a variable that is not defined.\")\n",
        "except TypeError:\n",
        "  print(\"You are comparing values of different type\")\n",
        "except:\n",
        "  print(\"Something else went wrong\")\n"
      ],
      "metadata": {
        "colab": {
          "base_uri": "https://localhost:8080/"
        },
        "id": "fWFRzeNdCWas",
        "outputId": "9b315b78-9744-4ec0-9bc2-d58185d117a6"
      },
      "execution_count": null,
      "outputs": [
        {
          "output_type": "stream",
          "name": "stdout",
          "text": [
            "Something else went wrong\n"
          ]
        }
      ]
    },
    {
      "cell_type": "code",
      "source": [
        "try:\n",
        "  x > 3\n",
        "except:\n",
        "  print(\"Something went wrong\")\n"
      ],
      "metadata": {
        "colab": {
          "base_uri": "https://localhost:8080/"
        },
        "id": "9oZN-Fw5Gh-y",
        "outputId": "89bf810d-fe7e-4fde-9a3a-96586c5a56f5"
      },
      "execution_count": null,
      "outputs": [
        {
          "output_type": "stream",
          "name": "stdout",
          "text": [
            "Something went wrong\n"
          ]
        }
      ]
    },
    {
      "cell_type": "code",
      "source": [
        "try:\n",
        "  x > 3\n",
        "except:\n",
        "  print(\"Something went wrong\")\n",
        "else:\n",
        "  print(\"Nothing went wrong\")\n",
        "finally:\n",
        "  print(\"The try...except block is finished\")\n"
      ],
      "metadata": {
        "colab": {
          "base_uri": "https://localhost:8080/"
        },
        "id": "0c7y90GqHwy8",
        "outputId": "8aeeac56-75b3-4d6f-f3be-aabd6ba3d516"
      },
      "execution_count": null,
      "outputs": [
        {
          "output_type": "stream",
          "name": "stdout",
          "text": [
            "Something went wrong\n",
            "The try...except block is finished\n"
          ]
        }
      ]
    },
    {
      "cell_type": "code",
      "source": [
        "from datetime import time\n",
        "\n",
        "x = time(hour=15)\n",
        "\n",
        "print(x)"
      ],
      "metadata": {
        "colab": {
          "base_uri": "https://localhost:8080/"
        },
        "id": "F4tuQtvqIqlK",
        "outputId": "3f2a55dc-55eb-48f3-f2ee-96fe81a25039"
      },
      "execution_count": null,
      "outputs": [
        {
          "output_type": "stream",
          "name": "stdout",
          "text": [
            "15:00:00\n"
          ]
        }
      ]
    },
    {
      "cell_type": "code",
      "source": [
        "def myfunction():\n",
        "  global x\n",
        "  x = \"hello\"\n",
        "\n",
        "myfunction()\n",
        "\n",
        "#x should now be global, and accessible in the global scope.\n",
        "print(x)\n"
      ],
      "metadata": {
        "colab": {
          "base_uri": "https://localhost:8080/"
        },
        "id": "jT4fjVU6IpmT",
        "outputId": "9abbbe8e-c87d-4276-9513-1c4447c9c4bf"
      },
      "execution_count": null,
      "outputs": [
        {
          "output_type": "stream",
          "name": "stdout",
          "text": [
            "hello\n"
          ]
        }
      ]
    },
    {
      "cell_type": "code",
      "source": [
        "x = [\"apple\", \"banana\", \"cherry\"]\n",
        "\n",
        "y = x\n",
        "\n",
        "print(x is y)\n"
      ],
      "metadata": {
        "colab": {
          "base_uri": "https://localhost:8080/"
        },
        "id": "ybF-kthGIIb8",
        "outputId": "d65146c1-d5a6-440c-cbef-2ff14f1ca56e"
      },
      "execution_count": null,
      "outputs": [
        {
          "output_type": "stream",
          "name": "stdout",
          "text": [
            "True\n"
          ]
        }
      ]
    },
    {
      "cell_type": "code",
      "source": [
        "x = lambda a : a + 10\n",
        "\n",
        "print(x(5))\n"
      ],
      "metadata": {
        "colab": {
          "base_uri": "https://localhost:8080/"
        },
        "id": "Vq2HG4iSJLvr",
        "outputId": "1718e3fa-3c0a-4184-98c4-6b83b22c86f4"
      },
      "execution_count": null,
      "outputs": [
        {
          "output_type": "stream",
          "name": "stdout",
          "text": [
            "15\n"
          ]
        }
      ]
    },
    {
      "cell_type": "code",
      "source": [
        "x = lambda a, b, c : a + b + c\n",
        "\n",
        "print(x(5, 6, 2))"
      ],
      "metadata": {
        "colab": {
          "base_uri": "https://localhost:8080/"
        },
        "id": "V65lV6BIIIUY",
        "outputId": "7d1599f1-f51d-4baa-83c4-d37842223b39"
      },
      "execution_count": null,
      "outputs": [
        {
          "output_type": "stream",
          "name": "stdout",
          "text": [
            "13\n"
          ]
        }
      ]
    },
    {
      "cell_type": "code",
      "source": [
        "for x in [0, 1, 2]:\n",
        "  pass"
      ],
      "metadata": {
        "id": "hDazW5WCJdSb"
      },
      "execution_count": null,
      "outputs": []
    },
    {
      "cell_type": "code",
      "source": [
        "a = 33\n",
        "b = 200\n",
        "\n",
        "if b > a:\n",
        "  pass"
      ],
      "metadata": {
        "id": "97DCfN8ZHw1N"
      },
      "execution_count": null,
      "outputs": []
    },
    {
      "cell_type": "code",
      "source": [
        "x = -1\n",
        "\n",
        "if x < 0:\n",
        "  raise Exception(\"Sorry, no numbers below zero\")\n"
      ],
      "metadata": {
        "colab": {
          "base_uri": "https://localhost:8080/",
          "height": 176
        },
        "id": "Ic8wZ8XvHxIb",
        "outputId": "8e83479d-9955-4b61-8683-5332bbc6a16f"
      },
      "execution_count": null,
      "outputs": [
        {
          "output_type": "error",
          "ename": "Exception",
          "evalue": "Sorry, no numbers below zero",
          "traceback": [
            "\u001b[0;31m---------------------------------------------------------------------------\u001b[0m",
            "\u001b[0;31mException\u001b[0m                                 Traceback (most recent call last)",
            "\u001b[0;32m<ipython-input-165-2edc57024fbc>\u001b[0m in \u001b[0;36m<cell line: 3>\u001b[0;34m()\u001b[0m\n\u001b[1;32m      2\u001b[0m \u001b[0;34m\u001b[0m\u001b[0m\n\u001b[1;32m      3\u001b[0m \u001b[0;32mif\u001b[0m \u001b[0mx\u001b[0m \u001b[0;34m<\u001b[0m \u001b[0;36m0\u001b[0m\u001b[0;34m:\u001b[0m\u001b[0;34m\u001b[0m\u001b[0;34m\u001b[0m\u001b[0m\n\u001b[0;32m----> 4\u001b[0;31m   \u001b[0;32mraise\u001b[0m \u001b[0mException\u001b[0m\u001b[0;34m(\u001b[0m\u001b[0;34m\"Sorry, no numbers below zero\"\u001b[0m\u001b[0;34m)\u001b[0m\u001b[0;34m\u001b[0m\u001b[0;34m\u001b[0m\u001b[0m\n\u001b[0m",
            "\u001b[0;31mException\u001b[0m: Sorry, no numbers below zero"
          ]
        }
      ]
    },
    {
      "cell_type": "code",
      "source": [
        "x = \"hello\"\n",
        "\n",
        "if not type(x) is int:\n",
        "  raise TypeError(\"Only integers are allowed\")\n"
      ],
      "metadata": {
        "colab": {
          "base_uri": "https://localhost:8080/",
          "height": 176
        },
        "id": "i_IF50D1KCdo",
        "outputId": "a588009c-573d-4d40-c376-c667c450800f"
      },
      "execution_count": null,
      "outputs": [
        {
          "output_type": "error",
          "ename": "TypeError",
          "evalue": "Only integers are allowed",
          "traceback": [
            "\u001b[0;31m---------------------------------------------------------------------------\u001b[0m",
            "\u001b[0;31mTypeError\u001b[0m                                 Traceback (most recent call last)",
            "\u001b[0;32m<ipython-input-167-bc91768a6271>\u001b[0m in \u001b[0;36m<cell line: 3>\u001b[0;34m()\u001b[0m\n\u001b[1;32m      2\u001b[0m \u001b[0;34m\u001b[0m\u001b[0m\n\u001b[1;32m      3\u001b[0m \u001b[0;32mif\u001b[0m \u001b[0;32mnot\u001b[0m \u001b[0mtype\u001b[0m\u001b[0;34m(\u001b[0m\u001b[0mx\u001b[0m\u001b[0;34m)\u001b[0m \u001b[0;32mis\u001b[0m \u001b[0mint\u001b[0m\u001b[0;34m:\u001b[0m\u001b[0;34m\u001b[0m\u001b[0;34m\u001b[0m\u001b[0m\n\u001b[0;32m----> 4\u001b[0;31m   \u001b[0;32mraise\u001b[0m \u001b[0mTypeError\u001b[0m\u001b[0;34m(\u001b[0m\u001b[0;34m\"Only integers are allowed\"\u001b[0m\u001b[0;34m)\u001b[0m\u001b[0;34m\u001b[0m\u001b[0;34m\u001b[0m\u001b[0m\n\u001b[0m",
            "\u001b[0;31mTypeError\u001b[0m: Only integers are allowed"
          ]
        }
      ]
    },
    {
      "cell_type": "code",
      "source": [
        "def myfunction():\n",
        "  return 3+3\n",
        "\n",
        "print(myfunction())\n"
      ],
      "metadata": {
        "colab": {
          "base_uri": "https://localhost:8080/"
        },
        "id": "lCPbpWTyKChC",
        "outputId": "e8dfe3b0-62ae-4c49-8a1a-df4f340d3fe5"
      },
      "execution_count": null,
      "outputs": [
        {
          "output_type": "stream",
          "name": "stdout",
          "text": [
            "6\n"
          ]
        }
      ]
    },
    {
      "cell_type": "code",
      "source": [
        "def myfunction(): #Statements after the return line will not be executed:\n",
        "  return 3+3\n",
        "  print(\"Hello, World!\")\n",
        "\n",
        "print(myfunction())\n"
      ],
      "metadata": {
        "colab": {
          "base_uri": "https://localhost:8080/"
        },
        "id": "abe9NOhFKctL",
        "outputId": "d271c44c-e47a-46b2-e652-738caff4936c"
      },
      "execution_count": null,
      "outputs": [
        {
          "output_type": "stream",
          "name": "stdout",
          "text": [
            "6\n"
          ]
        }
      ]
    },
    {
      "cell_type": "code",
      "source": [
        " #Unlike the return keyword which stops further execution of the function,\n",
        " #the yield keyword continues to the end of the function.\n",
        " #When you call a function with yield keyword(s),\n",
        " # the return value will be a list of values, one for each yield.\n",
        "\n",
        "def myFunc():\n",
        "  yield \"Hello\"\n",
        "  yield 51\n",
        "  yield \"Good Bye\"\n",
        "\n",
        "x = myFunc()\n",
        "\n",
        "for z in x:\n",
        "  print(z)"
      ],
      "metadata": {
        "colab": {
          "base_uri": "https://localhost:8080/"
        },
        "id": "9vsjIqL7KW6t",
        "outputId": "f6acf834-2807-44be-cbf0-3057f38c632c"
      },
      "execution_count": null,
      "outputs": [
        {
          "output_type": "stream",
          "name": "stdout",
          "text": [
            "Hello\n",
            "51\n",
            "Good Bye\n"
          ]
        }
      ]
    },
    {
      "cell_type": "code",
      "source": [
        "def myfunc1():\n",
        "  x = \"John\"\n",
        "  def myfunc2():\n",
        "    nonlocal x\n",
        "    x = \"hello\"\n",
        "  myfunc2()\n",
        "  return x\n",
        "\n",
        "print(myfunc1())"
      ],
      "metadata": {
        "colab": {
          "base_uri": "https://localhost:8080/"
        },
        "id": "V7hUWOmBKCo1",
        "outputId": "b561e523-6580-4915-c0c7-224c05ad6c86"
      },
      "execution_count": null,
      "outputs": [
        {
          "output_type": "stream",
          "name": "stdout",
          "text": [
            "hello\n"
          ]
        }
      ]
    },
    {
      "cell_type": "code",
      "source": [
        "# nonlocal keyword is used to work with variables inside nested functions,\n",
        "#where the variable should not belong to the inner function.\n",
        "#Use the keyword nonlocal to declare that the variable is not local.\n",
        "\n"
      ],
      "metadata": {
        "id": "IQJRE5DSLFP2"
      },
      "execution_count": null,
      "outputs": []
    },
    {
      "cell_type": "code",
      "source": [],
      "metadata": {
        "id": "WT0SY_7oLFVe"
      },
      "execution_count": null,
      "outputs": []
    },
    {
      "cell_type": "markdown",
      "source": [
        "\n",
        "**COMPARE AND CONTRAST MUTABLE AND IMMUTABLE OBJECTS IN PYTHON WITH EXAMPLES**"
      ],
      "metadata": {
        "id": "iwUOUL040LdY"
      }
    },
    {
      "cell_type": "markdown",
      "source": [
        "Mutable objects are those that allow you to change their value or data in place without affecting the object’s identity.\n",
        "In contrast, immutable objects don’t allow this kind of operation. You’ll just have the option of creating new objects of the same type with different values.\n",
        "Immutable objects are common in functional programming, while mutable objects are widely used in object-oriented programming.\n",
        "Immutable Objects are of in-built datatypes like int, float, bool, string, Unicode, and tuple. In simple words, an immutable object can’t be changed after it is created.\n",
        "\n",
        "Mutable and immutable objects are handled differently in Python. Immutable objects are quicker to access and are expensive to change because it involves the creation of a copy. Whereas mutable objects are easy to change.\n",
        "The use of mutable objects is recommended when there is a need to change the size or content of the object.\n",
        "Exception: However, there is an exception in immutability as well. We know that a tuple in Python is immutable. But the tuple consists of a sequence of names with unchangeable bindings to objects.\n",
        "\n",
        "Example :\n"
      ],
      "metadata": {
        "id": "-rLlpu1K1JdR"
      }
    },
    {
      "cell_type": "code",
      "source": [
        "# Python code to test that\n",
        "# tuples are immutable\n",
        "\n",
        "tuple1 = (0, 1, 2, 3)\n",
        "tuple1 [0] = 5\n",
        "print(tuple1)\n"
      ],
      "metadata": {
        "id": "ySMeGDt-0GJ0"
      },
      "execution_count": null,
      "outputs": []
    },
    {
      "cell_type": "code",
      "source": [
        "# Python code to test that\n",
        "# strings are immutable\n",
        "\n",
        "message = \"Welcome to my world \"\n",
        "message [0] = 'p'\n",
        "print(message)\n"
      ],
      "metadata": {
        "id": "95cJEGlT2K8H"
      },
      "execution_count": null,
      "outputs": []
    },
    {
      "cell_type": "code",
      "source": [
        "my_list = [1, 2, 3]\n",
        "my_list.append(4)\n",
        "print(my_list)\n",
        "\n",
        "my_list.insert(1, 5)\n",
        "print(my_list)\n",
        "\n",
        "my_list.remove(2)\n",
        "print(my_list)\n",
        "\n",
        "popped_element = my_list.pop(0)\n",
        "print(my_list)\n",
        "print(popped_element)\n",
        "\n",
        "\n"
      ],
      "metadata": {
        "id": "Ksm-3riq2WAx"
      },
      "execution_count": null,
      "outputs": []
    },
    {
      "cell_type": "code",
      "source": [
        "my_dict = {\"name\": \"Ram\", \"age\": 25} #mutable i.e., we can make changes in the Dictionary.\n",
        "new_dict = my_dict\n",
        "new_dict[\"age\"] = 37\n",
        "\n",
        "print(my_dict)\n",
        "print(new_dict)\n"
      ],
      "metadata": {
        "id": "JhXgDNfE29tK"
      },
      "execution_count": null,
      "outputs": []
    },
    {
      "cell_type": "code",
      "source": [
        "my_set = {1, 2, 3}  ##mutable i.e., we can make changes in the Dictionary.\n",
        "\n",
        "my_set.add(4)\n",
        "\n",
        "print(my_set)\n",
        "\n"
      ],
      "metadata": {
        "id": "Kxc8IUqm3M-l"
      },
      "execution_count": null,
      "outputs": []
    },
    {
      "cell_type": "code",
      "source": [],
      "metadata": {
        "id": "Uw53voTZ3ksF"
      },
      "execution_count": null,
      "outputs": []
    },
    {
      "cell_type": "markdown",
      "source": [
        " **Discuss the different types of operators in Python and provide examples of how they are used**"
      ],
      "metadata": {
        "id": "slepFu__4XeO"
      }
    },
    {
      "cell_type": "markdown",
      "source": [
        "**ANSWER**"
      ],
      "metadata": {
        "id": "fuMKZMZY4SQ6"
      }
    },
    {
      "cell_type": "code",
      "source": [],
      "metadata": {
        "id": "xWSP73b95BgM"
      },
      "execution_count": null,
      "outputs": []
    },
    {
      "cell_type": "markdown",
      "source": [
        "Python divides the operators in the following groups:\n",
        "\n",
        "Arithmetic operators\n",
        "Assignment operators\n",
        "Comparison operators\n",
        "Logical operators\n",
        "Identity operators\n",
        "Membership operators\n",
        "Bitwise operators\n",
        "\n",
        "---\n",
        "\n",
        "\n",
        "\n",
        "Arithmetic Operators in Python\n",
        "\n",
        "---\n",
        "\n",
        "\n",
        "\n",
        "Addition >> + >> adds two operands >>\tx + y\n",
        "\n",
        "Subtraction >> - >> subtracts two operands >> \tx – y\n",
        "\n",
        "Multiplication >> * >> multiplies two operands\t>> x * y\n",
        "\n",
        "Division (float) >> /  >>  divides the first operand by the second\t>> x / y\n",
        "\n",
        "Division (floor) >> // >>  divides the first operand by the second\t>> x // y\n",
        "\n",
        "Modulus >> % >>  returns the remainder when the first operand is divided by the second\t>> x % y\n",
        "\n",
        "Power >> ** >> Returns first raised to power second\t>> x ** y\n",
        "\n"
      ],
      "metadata": {
        "id": "OIqE2xQv59fp"
      }
    },
    {
      "cell_type": "code",
      "source": [
        "a = 9\n",
        "b = 4\n",
        "add = a + b\n",
        "\n",
        "sub = a - b\n",
        "\n",
        "mul = a * b\n",
        "\n",
        "mod = a % b\n",
        "\n",
        "p = a ** b\n",
        "\n",
        "print(add)\n",
        "print(sub)\n",
        "print(mul)\n",
        "print(mod)\n",
        "print(p)\n",
        "\n",
        "\n",
        "\n"
      ],
      "metadata": {
        "id": "Hzx3IFwy8So1"
      },
      "execution_count": null,
      "outputs": []
    },
    {
      "cell_type": "code",
      "source": [
        "print(5/5)   #Float division\n",
        "print(10/2)\n",
        "print(-10/2)\n",
        "print(20.0/2)"
      ],
      "metadata": {
        "id": "_4KyxDMJ9DTt"
      },
      "execution_count": null,
      "outputs": []
    },
    {
      "cell_type": "code",
      "source": [
        "print(10//3)  # Floor division\n",
        "print (-5//2)\n",
        "print (5.0//2)\n",
        "print (-5.0//2)"
      ],
      "metadata": {
        "id": "eOHU6Ff09iV7"
      },
      "execution_count": null,
      "outputs": []
    },
    {
      "cell_type": "markdown",
      "source": [
        "\n",
        "\n",
        "---\n",
        "\n",
        "\n",
        "**Comparison of Python Operators**\n",
        "\n",
        "---\n",
        "\n"
      ],
      "metadata": {
        "id": "zrUXbmsY-RN7"
      }
    },
    {
      "cell_type": "code",
      "source": [],
      "metadata": {
        "id": "_EfnrhNN-XdX"
      },
      "execution_count": null,
      "outputs": []
    },
    {
      "cell_type": "markdown",
      "source": [
        "Greater than \" > \" : True if the left operand is greater than the right :\tx > y\n",
        "\n",
        "\"<\"\tLess than: True if the left operand is less than the right :\tx < y\n",
        "\n",
        "\"==\"\tEqual to: True if both operands are equal: \tx == y\n",
        "\n",
        "\"!=\"\tNot equal to : True if operands are not equal :\tx != y\n",
        "\n",
        "\">=\"\tGreater than or equal to : True if the left operand is greater than or equal to the right :\tx >= y\n",
        "\n",
        "\"<=\" :\tLess than or equal to : True if the left operand is less than or equal to the right\t: x <= y"
      ],
      "metadata": {
        "id": "mgwPWJ26-iPH"
      }
    },
    {
      "cell_type": "code",
      "source": [
        "a = 20\n",
        "b = 35\n",
        "\n",
        "print(a > b)\n",
        "print(a < b)\n",
        "print(a == b)\n",
        "print(a != b)\n",
        "print(a >= b)\n",
        "print(a <= b)\n",
        "\n"
      ],
      "metadata": {
        "id": "CU_nWfNg_HIK"
      },
      "execution_count": null,
      "outputs": []
    },
    {
      "cell_type": "markdown",
      "source": [
        "\n",
        "\n",
        "---\n",
        "\n",
        "\n",
        "Logical Operators in Python\n",
        "\n",
        "---\n",
        "\n",
        "\n",
        "\n",
        "\n"
      ],
      "metadata": {
        "id": "l_KT26ln_jBr"
      }
    },
    {
      "cell_type": "markdown",
      "source": [
        "and\t:Logical AND: True if both the operands are true\tx and y\n",
        "\n",
        "or:\tLogical OR: True if either of the operands is true \tx or y\n",
        "\n",
        "not :\tLogical NOT: True if the operand is false \tnot x"
      ],
      "metadata": {
        "id": "QSgwUYWr_wtZ"
      }
    },
    {
      "cell_type": "code",
      "source": [
        "a = True\n",
        "b = False\n",
        "print(a and b)\n",
        "print(a or b)\n",
        "print(not a)"
      ],
      "metadata": {
        "id": "PzG8MBNJ_5Jg"
      },
      "execution_count": null,
      "outputs": []
    },
    {
      "cell_type": "markdown",
      "source": [
        "\n",
        "\n",
        "---\n",
        "Bitwise Operators in Python\n",
        "\n",
        "\n",
        "---\n",
        "\n",
        "\n"
      ],
      "metadata": {
        "id": "NtVypPP1AC0J"
      }
    },
    {
      "cell_type": "markdown",
      "source": [
        "&\tBitwise AND\tx & y\n",
        "\n",
        "|\tBitwise OR\tx | y\n",
        "\n",
        "~\tBitwise NOT\t~x\n",
        "\n",
        "^\tBitwise XOR\tx ^ y\n",
        "\n",
        ">> Bitwise right shift\tx>>\n",
        "\n",
        "<<\tBitwise left shift\tx<<"
      ],
      "metadata": {
        "id": "eb5BYBnGAI_5"
      }
    },
    {
      "cell_type": "markdown",
      "source": [],
      "metadata": {
        "id": "AQGP6yeFAy9X"
      }
    },
    {
      "cell_type": "code",
      "source": [
        "\n",
        "a = 10\n",
        "b = 4\n",
        "print(a & b)\n",
        "print(a | b)\n",
        "print(~a)\n",
        "print(a ^ b)\n",
        "print(a >> 2)\n",
        "print(a << 2)\n",
        "\n",
        "\n"
      ],
      "metadata": {
        "id": "VbFIQgQrAmny"
      },
      "execution_count": null,
      "outputs": []
    },
    {
      "cell_type": "markdown",
      "source": [
        "\n",
        "\n",
        "---\n",
        "Assignment Operators in Python\n",
        "\n",
        "\n",
        "---\n",
        "\n",
        "\n"
      ],
      "metadata": {
        "id": "x_hZ8yavA0If"
      }
    },
    {
      "cell_type": "code",
      "source": [],
      "metadata": {
        "id": "J7Q9Owk2A8I9"
      },
      "execution_count": null,
      "outputs": []
    },
    {
      "cell_type": "markdown",
      "source": [
        "=\t>> Assign the value of the right side of the expression to the left side operand >>\tx = y + z\n",
        "\n",
        "+=  \t>> Add AND : Add right-side operand with left-side operand and then assign to left operand\t>> a+=b   >>  a=a+b\n",
        "\n",
        "-= >>\tSubtract AND : Subtract right operand from left operand and then assign to left operand\t>> a-=b   >>   a=a-b\n",
        "\n",
        "*=\t>>  Multiply AND : Multiply right operand with left operand and then assign to left operand >>\ta*=b   >>  a=a*b\n",
        "\n",
        "/=  >> \tDivide AND : Divide left operand with right operand and then assign to left operand\ta/=b  >>   a=a/b\n",
        "\n",
        "%= >>\tModulus AND : Takes modulus using left and right operands and assign the result to left operand >>\ta%=b  >>   a=a%b\n",
        "\n",
        "//=\tDivide(floor) AND: Divide left operand with right operand and then assign the value(floor) to left operand >>\ta//=b >>    a=a//b\n",
        "\n",
        "**= >>\tExponent AND: Calculate exponent(raise power) value using operands and assign value to left operand >>\ta**=b    >> a=a**b\n",
        "\n",
        "&= >>\tPerforms Bitwise AND on operands and assign value to left operand\t>>   \n",
        " a&=b   >>  a=a&b\n",
        "\n",
        "|= >>\tPerforms Bitwise OR on operands and assign value to left operand\t>>   \n",
        " a|=b   >>  a=a|b\n",
        "\n",
        "^=\t>> Performs Bitwise xOR on operands and assign value to left operand\ta^=b   >>  a=a^b\n",
        "\n",
        ">>=\tPerforms Bitwise right shift on operands and assign value to left operand\ta>>=b     a=a>>b\n",
        "\n",
        "<<=\tPerforms Bitwise left shift on operands and assign value to left operand\ta <<=   >>   a= a << b"
      ],
      "metadata": {
        "id": "jWtouahJBBAP"
      }
    },
    {
      "cell_type": "code",
      "source": [
        "a = 10\n",
        "b = a\n",
        "print(b)\n",
        "b += a\n",
        "print(b)\n",
        "b -= a\n",
        "print(b)\n",
        "b *= a\n",
        "print(b)\n",
        "b <<= a\n",
        "print(b)\n",
        "\n"
      ],
      "metadata": {
        "id": "mrXs2Wb3CGKi"
      },
      "execution_count": null,
      "outputs": []
    },
    {
      "cell_type": "markdown",
      "source": [
        "\n",
        "\n",
        "---\n",
        "\n",
        "\n",
        "I**dentity Operators in** **Python**\n",
        "\n",
        "---\n",
        "\n",
        "\n",
        "\n",
        "\n"
      ],
      "metadata": {
        "id": "YesfTrL8CgW_"
      }
    },
    {
      "cell_type": "markdown",
      "source": [
        "is          True if the operands are identical\n",
        "\n",
        "is not      True if the operands are not identical\n"
      ],
      "metadata": {
        "id": "GpEyuYLbC1VQ"
      }
    },
    {
      "cell_type": "code",
      "source": [
        "a = 10\n",
        "b = 20\n",
        "c = a\n",
        "\n",
        "print(a is not b)\n",
        "print(a is c)\n",
        "\n"
      ],
      "metadata": {
        "id": "_DfBVDobC2Tl"
      },
      "execution_count": null,
      "outputs": []
    },
    {
      "cell_type": "markdown",
      "source": [
        "\n",
        "\n",
        "---\n",
        "\n",
        "\n",
        "**Membership Operators in Python**\n",
        "\n",
        "---\n",
        "\n"
      ],
      "metadata": {
        "id": "wFSDLhJRDBtg"
      }
    },
    {
      "cell_type": "markdown",
      "source": [
        "in          :  True if value is found in the sequence\n",
        "\n",
        "not in       : True if value is not found in the sequence\n"
      ],
      "metadata": {
        "id": "IdjlqXTeDOo0"
      }
    },
    {
      "cell_type": "markdown",
      "source": [],
      "metadata": {
        "id": "HesppSkoD1Ye"
      }
    },
    {
      "cell_type": "code",
      "source": [
        "x = 24\n",
        "y = 20\n",
        "list = [10, 20, 30, 40, 50]\n",
        "\n",
        "if (x not in list):\n",
        "    print(\"x is NOT present in given list\")\n",
        "else:\n",
        "    print(\"x is present in given list\")\n",
        "\n",
        "if (y in list):\n",
        "    print(\"y is present in given list\")\n",
        "else:\n",
        "    print(\"y is NOT present in given list\")\n",
        "\n"
      ],
      "metadata": {
        "id": "4yE_SFElDQZl"
      },
      "execution_count": null,
      "outputs": []
    },
    {
      "cell_type": "markdown",
      "source": [
        "**Explain the concept of type casting in Python with examples**"
      ],
      "metadata": {
        "id": "jD6z5WAyD2O_"
      }
    },
    {
      "cell_type": "code",
      "source": [],
      "metadata": {
        "id": "JWScXjg3ECP6"
      },
      "execution_count": null,
      "outputs": []
    },
    {
      "cell_type": "markdown",
      "source": [
        "type Casting is the method to convert the Python variable datatype into a certain data type in order to perform the required operation by users. In this article, we will see the various techniques for typecasting. There can be two types of Type Casting in Python:\n",
        "\n",
        "Python Implicit Type Conversion\n",
        "\n",
        "Python Explicit Type Conversion"
      ],
      "metadata": {
        "id": "-DEvmP7wERoz"
      }
    },
    {
      "cell_type": "code",
      "source": [
        "# Python program to demonstrate\n",
        "# implicit type Casting\n",
        "\n",
        "# Python automatically converts\n",
        "# a to int\n",
        "a = 7\n",
        "print(type(a))\n",
        "\n",
        "# Python automatically converts\n",
        "# b to float\n",
        "b = 3.0\n",
        "print(type(b))\n",
        "\n",
        "# Python automatically converts\n",
        "# c to float as it is a float addition\n",
        "c = a + b\n",
        "print(c)\n",
        "print(type(c))\n",
        "\n",
        "# Python automatically converts\n",
        "# d to float as it is a float multiplication\n",
        "d = a * b\n",
        "print(d)\n",
        "print(type(d))\n"
      ],
      "metadata": {
        "id": "1qYS23AFEVD-"
      },
      "execution_count": null,
      "outputs": []
    },
    {
      "cell_type": "code",
      "source": [
        "#Explicit Type Conversion in Python\n",
        "\n",
        "a = 5\n",
        "print (type(a))\n",
        "n = float(a)\n",
        "\n",
        "print(n)\n",
        "print(type(n))\n",
        "\n"
      ],
      "metadata": {
        "id": "SXMdwMKGEc4v"
      },
      "execution_count": null,
      "outputs": []
    },
    {
      "cell_type": "code",
      "source": [
        "\n",
        "a = 5.9 #float\n",
        "\n",
        "# typecast to int\n",
        "n = int(a)\n",
        "\n",
        "print(n)\n",
        "print(type(n))\n"
      ],
      "metadata": {
        "id": "_ZSXTqb_FPib"
      },
      "execution_count": null,
      "outputs": []
    },
    {
      "cell_type": "code",
      "source": [
        "\n",
        "# int variable\n",
        "a = 5\n",
        "\n",
        "# typecast to str\n",
        "n = str(a)\n",
        "\n",
        "print(n)\n",
        "print(type(n))\n"
      ],
      "metadata": {
        "id": "r3ctCu92F99t"
      },
      "execution_count": null,
      "outputs": []
    },
    {
      "cell_type": "code",
      "source": [
        "# string variable\n",
        "a = \"5\"\n",
        "b = 't'\n",
        "\n",
        "# typecast to int\n",
        "n = int(a)\n",
        "\n",
        "print(n)\n",
        "print(type(n))\n",
        "\n",
        "print(int(b))\n",
        "\n",
        "print(type(b))\n"
      ],
      "metadata": {
        "id": "KofRZ0PXGBBu"
      },
      "execution_count": null,
      "outputs": []
    },
    {
      "cell_type": "code",
      "source": [
        "# integer variable\n",
        "a = 5\n",
        "# string variable\n",
        "b = 't'\n",
        "\n",
        "# typecast to int\n",
        "n = a+b\n",
        "\n",
        "print(n)\n",
        "print(type(n))\n"
      ],
      "metadata": {
        "id": "DslCQhp1GLEL"
      },
      "execution_count": null,
      "outputs": []
    },
    {
      "cell_type": "markdown",
      "source": [
        "**How do conditional statements work in Python? Illustrate with examples**\n",
        "\n",
        "\n",
        "Conditional Statements are statements in Python that provide a choice for the control flow based on a condition. It means that the control flow of the Python program will be decided based on the outcome of the condition."
      ],
      "metadata": {
        "id": "kcUCambRGqa8"
      }
    },
    {
      "cell_type": "code",
      "source": [
        "# if statement example\n",
        "if 10 > 5:\n",
        "    print(\"10 greater than 5\")\n",
        "\n",
        "print(\"Program ended\")\n"
      ],
      "metadata": {
        "id": "bIRyRRKKGxhl"
      },
      "execution_count": null,
      "outputs": []
    },
    {
      "cell_type": "code",
      "source": [
        "# if..else statement example\n",
        "x = 3\n",
        "if x == 4:\n",
        "    print(\"Yes\")\n",
        "else:\n",
        "    print(\"No\")\n"
      ],
      "metadata": {
        "id": "N0LWIWoSHKf7"
      },
      "execution_count": null,
      "outputs": []
    },
    {
      "cell_type": "code",
      "source": [
        "# if..else chain statement\n",
        "letter = \"A\"\n",
        "\n",
        "if letter == \"B\":\n",
        "    print(\"letter is B\")\n",
        "\n",
        "else:\n",
        "\n",
        "    if letter == \"C\":\n",
        "        print(\"letter is C\")\n",
        "\n",
        "    else:\n",
        "\n",
        "        if letter == \"A\":\n",
        "            print(\"letter is A\")\n",
        "\n",
        "        else:\n",
        "            print(\"letter isn't A, B and C\")\n"
      ],
      "metadata": {
        "id": "AczeVpcFHPV7"
      },
      "execution_count": null,
      "outputs": []
    },
    {
      "cell_type": "code",
      "source": [
        "# if-elif statement example\n",
        "letter = \"A\"\n",
        "\n",
        "if letter == \"B\":\n",
        "    print(\"letter is B\")\n",
        "\n",
        "elif letter == \"C\":\n",
        "    print(\"letter is C\")\n",
        "\n",
        "elif letter == \"A\":\n",
        "    print(\"letter is A\")\n",
        "\n",
        "else:\n",
        "    print(\"letter isn't A, B or C\")\n"
      ],
      "metadata": {
        "id": "nO0NiC_lHThi"
      },
      "execution_count": null,
      "outputs": []
    },
    {
      "cell_type": "code",
      "source": [
        "#while loop example >> conditional loops\n",
        "x = 5\n",
        "while x < 10:\n",
        "    print(x)\n",
        "    x += 1"
      ],
      "metadata": {
        "id": "unHpbA2hHuLs"
      },
      "execution_count": null,
      "outputs": []
    },
    {
      "cell_type": "code",
      "source": [
        "#for loop example with condition\n",
        "for i in range(10):\n",
        "    if i == 5:\n",
        "        break  # Exit the loop when i is 5\n",
        "    print(i)"
      ],
      "metadata": {
        "id": "47yR_JPHH1Y5"
      },
      "execution_count": null,
      "outputs": []
    },
    {
      "cell_type": "markdown",
      "source": [
        "Describe the different types of loops in Python and their use cases with examples.\n",
        "\n",
        "A for loop is used for iterating over a sequence (that is either a list, a tuple, a dictionary, a set, or a string).\n",
        "\n",
        "This is less like the for keyword in other programming languages, and works more like an iterator method as found in other object-orientated programming languages.\n",
        "\n",
        "With the for loop we can execute a set of statements, once for each item in a list, tuple, set etc.\n"
      ],
      "metadata": {
        "id": "MI3TeAqkIULT"
      }
    },
    {
      "cell_type": "code",
      "source": [
        "fruits = [\"apple\", \"banana\", \"cherry\"]\n",
        "for x in fruits:\n",
        "  print(x)"
      ],
      "metadata": {
        "id": "d2O2QGV6IaOs"
      },
      "execution_count": null,
      "outputs": []
    },
    {
      "cell_type": "code",
      "source": [
        "for x in \"banana\":  #Looping Through a String\n",
        "  print(x)"
      ],
      "metadata": {
        "id": "nrqh1W62I_9D"
      },
      "execution_count": null,
      "outputs": []
    },
    {
      "cell_type": "code",
      "source": [
        "fruits = [\"apple\", \"banana\", \"cherry\"]   #The break Statement >> Exit the loop when x is \"banana\":\n",
        "for x in fruits:\n",
        "  print(x)\n",
        "  if x == \"banana\":\n",
        "    break"
      ],
      "metadata": {
        "id": "2Fd91RWMJVBj"
      },
      "execution_count": null,
      "outputs": []
    },
    {
      "cell_type": "code",
      "source": [
        "fruits = [\"apple\", \"banana\", \"cherry\"] #Exit the loop when x is \"banana\", but this time the break comes before the print:\n",
        "for x in fruits:\n",
        "  if x == \"banana\":\n",
        "    break\n",
        "  print(x)"
      ],
      "metadata": {
        "id": "4p8djXbvJd4z"
      },
      "execution_count": null,
      "outputs": []
    },
    {
      "cell_type": "code",
      "source": [
        "#The continue Statement >> With the continue statement we can stop the current iteration of the loop, and continue with the next:\n",
        "#Do not print banana:\n",
        "\n",
        "fruits = [\"apple\", \"banana\", \"cherry\"]\n",
        "for x in fruits:\n",
        "  if x == \"banana\":\n",
        "    continue\n",
        "  print(x)"
      ],
      "metadata": {
        "id": "lvjVZFqRJn1m"
      },
      "execution_count": null,
      "outputs": []
    },
    {
      "cell_type": "code",
      "source": [
        "#The range() Function\n",
        "# range() function returns a sequence of numbers, starting from 0 by default, and increments by 1 (by default), and ends at a specified number.\n",
        "for x in range(6):\n",
        "  print(x)\n"
      ],
      "metadata": {
        "id": "6bNljJTdKGNu"
      },
      "execution_count": null,
      "outputs": []
    },
    {
      "cell_type": "code",
      "source": [
        "for x in range(2, 6): #Using the start parameter:\n",
        "  print(x)\n",
        "\n"
      ],
      "metadata": {
        "id": "nH_AJqbkKV05"
      },
      "execution_count": null,
      "outputs": []
    },
    {
      "cell_type": "code",
      "source": [
        "#Increment the sequence with 3 (default is 1):\n",
        "for x in range(2, 30, 3):\n",
        "  print(x)"
      ],
      "metadata": {
        "id": "ncZenWlkKa3w"
      },
      "execution_count": null,
      "outputs": []
    },
    {
      "cell_type": "code",
      "source": [
        "#Else in For Loop\n",
        "#The else keyword in a for loop specifies a block of code to be executed when the loop is finished\n",
        "for x in range(6):\n",
        "  print(x)\n",
        "else:\n",
        "  print(\"Finally finished!\")"
      ],
      "metadata": {
        "id": "bFNcymuCKnSs"
      },
      "execution_count": null,
      "outputs": []
    },
    {
      "cell_type": "code",
      "source": [
        "#Break the loop when x is 3, and see what happens with the else block:\n",
        "\n",
        "for x in range(6):\n",
        "  if x == 3: break\n",
        "  print(x)\n",
        "else:\n",
        "  print(\"Finally finished!\")"
      ],
      "metadata": {
        "id": "Ejxu3dcvK1Yw"
      },
      "execution_count": null,
      "outputs": []
    },
    {
      "cell_type": "code",
      "source": [
        "#Nested Loops\n",
        "#A nested loop is a loop inside a loop.\n",
        "\n",
        "#The \"inner loop\" will be executed one time for each iteration of the \"outer loop\":\n",
        "adj = [\"red\", \"big\", \"tasty\"]\n",
        "fruits = [\"apple\", \"banana\", \"cherry\"]\n",
        "\n",
        "for x in adj:\n",
        "  for y in fruits:\n",
        "    print(x, y)"
      ],
      "metadata": {
        "id": "ExIrrcONK6Z5"
      },
      "execution_count": null,
      "outputs": []
    },
    {
      "cell_type": "code",
      "source": [
        "#the pass Statement\n",
        "#for loops cannot be empty, but if you for some reason have a for loop with no content, put in the pass statement to avoid getting an error.\n",
        "for x in [0, 1, 2]:\n",
        "  pass"
      ],
      "metadata": {
        "id": "A1OeGq8RLCTh"
      },
      "execution_count": null,
      "outputs": []
    },
    {
      "cell_type": "code",
      "source": [
        "# having an empty for loop like this, would raise an error without the pass statement\n"
      ],
      "metadata": {
        "id": "SZU3CM5ZLQLL"
      },
      "execution_count": null,
      "outputs": []
    },
    {
      "cell_type": "code",
      "source": [],
      "metadata": {
        "id": "f-y76qW2LYJK"
      },
      "execution_count": null,
      "outputs": []
    }
  ]
}